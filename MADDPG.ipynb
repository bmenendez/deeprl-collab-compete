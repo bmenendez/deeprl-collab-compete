{
 "cells": [
  {
   "cell_type": "markdown",
   "metadata": {},
   "source": [
    "# Multi-Agent Deep Deterministic Policy Gradients (MADDPG)\n",
    "---\n",
    "In this notebook, you can see a MADDPG implementation for solving the tennis environment.\n",
    "\n",
    "### 1. Import the Necessary Packages"
   ]
  },
  {
   "cell_type": "code",
   "execution_count": 1,
   "metadata": {},
   "outputs": [
    {
     "name": "stdout",
     "output_type": "stream",
     "text": [
      "cuda:0\n"
     ]
    }
   ],
   "source": [
    "from unityagents import UnityEnvironment\n",
    "import numpy as np\n",
    "from collections import deque\n",
    "import torch\n",
    "import matplotlib.pyplot as plt\n",
    "%matplotlib inline\n",
    "\n",
    "import ddpg_agent\n",
    "from ddpg_agent import Agent, ReplayBuffer"
   ]
  },
  {
   "cell_type": "markdown",
   "metadata": {},
   "source": [
    "### 2. Start the environment\n",
    "\n",
    "Next, we will start the environment:"
   ]
  },
  {
   "cell_type": "code",
   "execution_count": 2,
   "metadata": {},
   "outputs": [
    {
     "name": "stderr",
     "output_type": "stream",
     "text": [
      "INFO:unityagents:\n",
      "'Academy' started successfully!\n",
      "Unity Academy name: Academy\n",
      "        Number of Brains: 1\n",
      "        Number of External Brains : 1\n",
      "        Lesson number : 0\n",
      "        Reset Parameters :\n",
      "\t\t\n",
      "Unity brain name: TennisBrain\n",
      "        Number of Visual Observations (per agent): 0\n",
      "        Vector Observation space type: continuous\n",
      "        Vector Observation space size (per agent): 8\n",
      "        Number of stacked Vector Observation: 3\n",
      "        Vector Action space type: continuous\n",
      "        Vector Action space size (per agent): 2\n",
      "        Vector Action descriptions: , \n"
     ]
    }
   ],
   "source": [
    "env = UnityEnvironment(file_name='Tennis_Linux/Tennis.x86_64')"
   ]
  },
  {
   "cell_type": "markdown",
   "metadata": {},
   "source": [
    "Environments contain **_brains_** which are responsible for deciding the actions of their associated agents. Here we check for the first brain available, and set it as the default brain we will be controlling from Python."
   ]
  },
  {
   "cell_type": "code",
   "execution_count": 3,
   "metadata": {},
   "outputs": [
    {
     "name": "stdout",
     "output_type": "stream",
     "text": [
      "Number of agents: 2\n",
      "Size of each action: 2\n",
      "There are 2 agents. Each observes a state with length: 24\n",
      "The state for the first agent looks like: [ 0.          0.          0.          0.          0.          0.\n",
      "  0.          0.          0.          0.          0.          0.\n",
      "  0.          0.          0.          0.         -6.65278625 -1.5\n",
      " -0.          0.          6.83172083  6.         -0.          0.        ]\n"
     ]
    }
   ],
   "source": [
    "# get the default brain\n",
    "brain_name = env.brain_names[0]\n",
    "brain = env.brains[brain_name]\n",
    "\n",
    "# reset the environment\n",
    "env_info = env.reset(train_mode=True)[brain_name]\n",
    "\n",
    "# number of agents\n",
    "num_agents = len(env_info.agents)\n",
    "print('Number of agents:', num_agents)\n",
    "\n",
    "# size of each action\n",
    "action_size = brain.vector_action_space_size\n",
    "print('Size of each action:', action_size)\n",
    "\n",
    "# examine the state space \n",
    "states = env_info.vector_observations\n",
    "state_size = states.shape[1]\n",
    "print('There are {} agents. Each observes a state with length: {}'.format(states.shape[0], state_size))\n",
    "print('The state for the first agent looks like:', states[0])"
   ]
  },
  {
   "cell_type": "markdown",
   "metadata": {},
   "source": [
    "### 4. Instantiate the agents\n",
    "\n",
    "Since they will share the Replay Buffer, instantiate it before."
   ]
  },
  {
   "cell_type": "code",
   "execution_count": 4,
   "metadata": {},
   "outputs": [],
   "source": [
    "seed = 10\n",
    "memory = ReplayBuffer(action_size, ddpg_agent.BUFFER_SIZE, ddpg_agent.BATCH_SIZE, seed)\n",
    "agents = []\n",
    "num_agents = 2\n",
    "for i in range(num_agents):\n",
    "    agents.append(Agent(state_size=state_size, action_size=action_size, random_seed=seed, memory=memory))"
   ]
  },
  {
   "cell_type": "markdown",
   "metadata": {},
   "source": [
    "### 5. Train the agent\n",
    "\n",
    "For every episode, the agent must perform actions and learn from them. The training stops when it reaches an average score of +0.5 over 100 consecutive episodes."
   ]
  },
  {
   "cell_type": "code",
   "execution_count": 5,
   "metadata": {},
   "outputs": [
    {
     "name": "stdout",
     "output_type": "stream",
     "text": [
      "Episode 100\tAverage Score: 0.00\tScore: 0.00\n",
      "Episode 200\tAverage Score: 0.01\tScore: 0.00\n",
      "Episode 300\tAverage Score: 0.03\tScore: 0.00\n",
      "Episode 400\tAverage Score: 0.00\tScore: 0.00\n",
      "Episode 500\tAverage Score: 0.00\tScore: 0.00\n",
      "Episode 600\tAverage Score: 0.00\tScore: 0.00\n",
      "Episode 700\tAverage Score: 0.00\tScore: 0.00\n",
      "Episode 800\tAverage Score: 0.00\tScore: 0.00\n",
      "Episode 900\tAverage Score: 0.00\tScore: 0.00\n",
      "Episode 1000\tAverage Score: 0.08\tScore: 0.10\n",
      "Episode 1100\tAverage Score: 0.09\tScore: 0.09\n",
      "Episode 1200\tAverage Score: 0.11\tScore: 0.09\n",
      "Episode 1258\tAverage Score: 0.51\tScore: 2.30\n",
      "Environment solved in 1258 episodes!\tAverage Score: 0.51\n"
     ]
    }
   ],
   "source": [
    "def ddpg(n_episodes=2000, max_t=1000):\n",
    "    scores_deque = deque(maxlen=100)\n",
    "    scores = []\n",
    "    max_score = -np.Inf\n",
    "    for i_episode in range(1, n_episodes+1):\n",
    "        env_info = env.reset(train_mode=True)[brain_name] # reset the environment\n",
    "        states = env_info.vector_observations\n",
    "        for agent in agents:\n",
    "            agent.reset()\n",
    "        score = np.zeros(num_agents)\n",
    "        while True:\n",
    "            actions = [agent.act(states[i]) for i, agent in enumerate(agents)]\n",
    "            env_info = env.step(actions)[brain_name]\n",
    "            next_states = env_info.vector_observations   # get the next state\n",
    "            rewards = env_info.rewards                   # get the reward\n",
    "            dones = env_info.local_done                  # see if episode has finished\n",
    "            for i, agent in enumerate(agents):\n",
    "                agent.save_memory(states[i], actions[i], rewards[i], next_states[i], dones[i])\n",
    "            for agent in agents:\n",
    "                agent.step()\n",
    "            states = next_states\n",
    "            score += rewards\n",
    "            if np.any(dones):\n",
    "                break \n",
    "        max_episode_score = np.max(score)\n",
    "        scores_deque.append(max_episode_score)\n",
    "        scores.append(max_episode_score)\n",
    "        average_scores = np.mean(scores_deque)\n",
    "        print('\\rEpisode {}\\tAverage Score: {:.2f}\\tScore: {:.2f}'.format(i_episode, average_scores, max_episode_score), end=\"\")\n",
    "        if i_episode % 100 == 0:\n",
    "            for i, agent in enumerate(agents):\n",
    "                torch.save(agent.actor_local.state_dict(), 'checkpoint_actor_{}.pth'.format(i))\n",
    "                torch.save(agent.critic_local.state_dict(), 'checkpoint_critic_{}.pth'.format(i))\n",
    "            print('\\rEpisode {}\\tAverage Score: {:.2f}'.format(i_episode, average_scores))   \n",
    "        if np.mean(scores_deque) >= 0.5:  # consider done when the average score reaches 30 or more\n",
    "            print('\\nEnvironment solved in {:d} episodes!\\tAverage Score: {:.2f}'.format(i_episode, average_scores))\n",
    "            for i, agent in enumerate(agents):\n",
    "                torch.save(agent.actor_local.state_dict(), 'checkpoint_actor_{}.pth'.format(i))\n",
    "                torch.save(agent.critic_local.state_dict(), 'checkpoint_critic_{}.pth'.format(i))\n",
    "            break\n",
    "    return scores\n",
    "\n",
    "scores = ddpg()"
   ]
  },
  {
   "cell_type": "markdown",
   "metadata": {},
   "source": [
    "### 6. Plot the scores"
   ]
  },
  {
   "cell_type": "code",
   "execution_count": 6,
   "metadata": {},
   "outputs": [
    {
     "data": {
      "image/png": "[encoded data removed]",
      "text/plain": [
       "<Figure size 432x288 with 1 Axes>"
      ]
     },
     "metadata": {
      "needs_background": "light"
     },
     "output_type": "display_data"
    }
   ],
   "source": [
    "fig = plt.figure()\n",
    "ax = fig.add_subplot(111)\n",
    "plt.plot(np.arange(1, len(scores)+1), scores)\n",
    "plt.ylabel('Score')\n",
    "plt.xlabel('Episode #')\n",
    "plt.show()"
   ]
  },
  {
   "cell_type": "markdown",
   "metadata": {},
   "source": [
    "### 7. Let the trained agents play with the environment!"
   ]
  },
  {
   "cell_type": "code",
   "execution_count": 7,
   "metadata": {},
   "outputs": [
    {
     "name": "stdout",
     "output_type": "stream",
     "text": [
      "Done after 333 actions\n"
     ]
    }
   ],
   "source": [
    "# load the weights from files\n",
    "for i, agent in enumerate(agents):\n",
    "    agent.actor_local.load_state_dict(torch.load('checkpoint_actor_{}.pth'.format(i)))\n",
    "    agent.critic_local.load_state_dict(torch.load('checkpoint_critic_{}.pth'.format(i)))\n",
    "\n",
    "env_info = env.reset(train_mode=False)[brain_name] # reset the environment\n",
    "states = env_info.vector_observations\n",
    "i = 0\n",
    "while True:\n",
    "    actions = [agent.act(states[i]) for i, agent in enumerate(agents)]\n",
    "    env_info = env.step(actions)[brain_name]\n",
    "    dones = env_info.local_done\n",
    "    states = env_info.vector_observations\n",
    "    \n",
    "    if np.any(dones):\n",
    "        print('Done after {} actions'.format(i))\n",
    "        break\n",
    "    \n",
    "    i += 1"
   ]
  },
  {
   "cell_type": "markdown",
   "metadata": {},
   "source": [
    "### 8. Close the environment"
   ]
  },
  {
   "cell_type": "code",
   "execution_count": 8,
   "metadata": {},
   "outputs": [],
   "source": [
    "env.close()"
   ]
  }
 ],
 "metadata": {
  "kernelspec": {
   "display_name": "Python 3",
   "language": "python",
   "name": "python3"
  },
  "language_info": {
   "codemirror_mode": {
    "name": "ipython",
    "version": 3
   },
   "file_extension": ".py",
   "mimetype": "text/x-python",
   "name": "python",
   "nbconvert_exporter": "python",
   "pygments_lexer": "ipython3",
   "version": "3.6.10"
  }
 },
 "nbformat": 4,
 "nbformat_minor": 2
}
